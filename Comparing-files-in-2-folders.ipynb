{
 "cells": [
  {
   "cell_type": "code",
   "execution_count": null,
   "id": "ac6aabee",
   "metadata": {},
   "outputs": [],
   "source": [
    "mypath = [\"/home/varun/Desktop/books/\",\"/media/varun/Elements/desktop\"]"
   ]
  },
  {
   "cell_type": "code",
   "execution_count": null,
   "id": "0c6ae093",
   "metadata": {},
   "outputs": [],
   "source": [
    "import os"
   ]
  },
  {
   "cell_type": "code",
   "execution_count": null,
   "id": "88bdfb0f",
   "metadata": {},
   "outputs": [],
   "source": [
    "def count_values(mypathvalue):\n",
    "    count=0\n",
    "    list_file ={}\n",
    "\n",
    "    for r, d, f in os.walk(mypathvalue):\n",
    "        for file in f:\n",
    "            if os.path.isfile(os.path.join(r, file)):\n",
    "                count+=1\n",
    "                list_file[file]= os.path.getsize(os.path.join(r, file)) \n",
    "    print(count)\n",
    "    return list_file"
   ]
  },
  {
   "cell_type": "code",
   "execution_count": null,
   "id": "5615878d",
   "metadata": {},
   "outputs": [],
   "source": [
    "list_local = count_values(mypath[0])"
   ]
  },
  {
   "cell_type": "code",
   "execution_count": null,
   "id": "1b5dff9a",
   "metadata": {},
   "outputs": [],
   "source": [
    "list_harddisk =  count_values(mypath[1])"
   ]
  },
  {
   "cell_type": "code",
   "execution_count": null,
   "id": "009f1459",
   "metadata": {},
   "outputs": [],
   "source": [
    "set( list_local.items() ) -  set( list_harddisk.items() )  "
   ]
  },
  {
   "cell_type": "code",
   "execution_count": null,
   "id": "701da828",
   "metadata": {},
   "outputs": [],
   "source": [
    "set( list_harddisk.items() )  - set( list_local.items() )"
   ]
  },
  {
   "cell_type": "code",
   "execution_count": null,
   "id": "bb72c444",
   "metadata": {},
   "outputs": [],
   "source": []
  },
  {
   "cell_type": "code",
   "execution_count": null,
   "id": "85af9d70",
   "metadata": {},
   "outputs": [],
   "source": []
  }
 ],
 "metadata": {
  "kernelspec": {
   "display_name": "Python 3",
   "language": "python",
   "name": "python3"
  },
  "language_info": {
   "codemirror_mode": {
    "name": "ipython",
    "version": 3
   },
   "file_extension": ".py",
   "mimetype": "text/x-python",
   "name": "python",
   "nbconvert_exporter": "python",
   "pygments_lexer": "ipython3",
   "version": "3.8.8"
  }
 },
 "nbformat": 4,
 "nbformat_minor": 5
}
